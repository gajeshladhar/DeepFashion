{
 "cells": [
  {
   "cell_type": "code",
   "execution_count": 7,
   "id": "568d8c46-e21b-4610-849a-77265f37a399",
   "metadata": {},
   "outputs": [],
   "source": [
    "import torch\n",
    "import torch.nn as nn\n",
    "import torch.nn.functional as F\n",
    "import torchvision\n",
    "from torch.utils.data import Dataset,DataLoader\n",
    "\n",
    "import os\n",
    "import cv2\n",
    "import numpy as np\n",
    "import pandas as pd\n",
    "\n",
    "from PIL import Image\n",
    "import plotly.express as px\n",
    "from tqdm.notebook import tqdm\n",
    "from urllib import request as urllib\n",
    "\n",
    "import gdown\n",
    "from models.inception import Model"
   ]
  },
  {
   "cell_type": "markdown",
   "id": "98700c4b-83e2-41b7-a9e6-b583a8bcf96a",
   "metadata": {},
   "source": [
    "**Download PreTrained Weights**"
   ]
  },
  {
   "cell_type": "code",
   "execution_count": 3,
   "id": "f9623527-209c-4865-bb6d-ded963f8dd5d",
   "metadata": {},
   "outputs": [
    {
     "name": "stderr",
     "output_type": "stream",
     "text": [
      "Downloading...\n",
      "From: https://drive.google.com/uc?id=1e9lEjENXJAcNxAOC6yqstXk-c4hgKtNt\n",
      "To: /media/gajesh/Data1/MachineLearning/DeepFashion-Github/model.pt\n",
      "100%|██████████| 109M/109M [00:34<00:00, 3.13MB/s] \n"
     ]
    },
    {
     "data": {
      "text/plain": [
       "'model.pt'"
      ]
     },
     "execution_count": 3,
     "metadata": {},
     "output_type": "execute_result"
    }
   ],
   "source": [
    "gdown.download(id=\"1e9lEjENXJAcNxAOC6yqstXk-c4hgKtNt\")"
   ]
  },
  {
   "cell_type": "markdown",
   "id": "c59a6cbc-c12c-4a78-9382-c2c9e09395cb",
   "metadata": {},
   "source": [
    "**Loading Model**"
   ]
  },
  {
   "cell_type": "code",
   "execution_count": 5,
   "id": "610a7a1f-7e9b-4cda-8a8f-e5fececd592c",
   "metadata": {},
   "outputs": [
    {
     "data": {
      "text/plain": [
       "<All keys matched successfully>"
      ]
     },
     "execution_count": 5,
     "metadata": {},
     "output_type": "execute_result"
    }
   ],
   "source": [
    "model = Model()\n",
    "model.load_state_dict(torch.load(f=\"model.pt\",map_location=\"cpu\"))"
   ]
  },
  {
   "cell_type": "markdown",
   "id": "21f61241-9bd1-41e1-9b4e-0812f62ec743",
   "metadata": {},
   "source": [
    "**Run Inference**"
   ]
  },
  {
   "cell_type": "code",
   "execution_count": 9,
   "id": "0680ad8c-eb62-4e2a-9765-10a53e87c521",
   "metadata": {},
   "outputs": [],
   "source": [
    "url = \"https://m.media-amazon.com/images/I/61gxaHtXARL._UL1500_.jpg\"\n",
    "url = urllib.urlopen(url)\n",
    "img = Image.open(url)\n",
    "img = torchvision.transforms.Resize(size=(299,299))(img)\n",
    "img = torchvision.transforms.ToTensor()(img)\n",
    "img = torchvision.transforms.Normalize(mean=[0.485, 0.456, 0.406], std=[0.229, 0.224, 0.225])(img)\n",
    "img = img\n",
    "img = img[None]"
   ]
  },
  {
   "cell_type": "code",
   "execution_count": 10,
   "id": "2cb9d1ab-0b41-40de-9379-da8d28ed0d16",
   "metadata": {},
   "outputs": [],
   "source": [
    "model.eval()\n",
    "yneck,ysleeve,ypattern = model(img,eval_=True)\n",
    "model.train()\n",
    "neck = int(torch.argmax(yneck[0]).data.cpu().numpy())\n",
    "sleeve = int(torch.argmax(ysleeve[0]).data.cpu().numpy())\n",
    "pattern = int(torch.argmax(ypattern[0]).data.cpu().numpy())"
   ]
  },
  {
   "cell_type": "code",
   "execution_count": 12,
   "id": "0e7a9be7-25d0-47c9-8e97-de188234d551",
   "metadata": {},
   "outputs": [
    {
     "data": {
      "text/plain": [
       "{'neck': 6, 'sleeve': 3, 'pattern': 9}"
      ]
     },
     "execution_count": 12,
     "metadata": {},
     "output_type": "execute_result"
    }
   ],
   "source": [
    "{\"neck\":neck,\"sleeve\":sleeve,\"pattern\":pattern}"
   ]
  },
  {
   "cell_type": "code",
   "execution_count": null,
   "id": "7989e6c5-874c-42c4-9924-ab3106e57d72",
   "metadata": {},
   "outputs": [],
   "source": []
  }
 ],
 "metadata": {
  "kernelspec": {
   "display_name": "Python 3 (ipykernel)",
   "language": "python",
   "name": "python3"
  },
  "language_info": {
   "codemirror_mode": {
    "name": "ipython",
    "version": 3
   },
   "file_extension": ".py",
   "mimetype": "text/x-python",
   "name": "python",
   "nbconvert_exporter": "python",
   "pygments_lexer": "ipython3",
   "version": "3.8.8"
  }
 },
 "nbformat": 4,
 "nbformat_minor": 5
}
