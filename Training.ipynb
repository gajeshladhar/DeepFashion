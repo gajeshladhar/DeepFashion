{
 "cells": [
  {
   "cell_type": "code",
   "execution_count": 1,
   "id": "3f977efa-9bc6-40ed-b216-6b8415ed5e6f",
   "metadata": {},
   "outputs": [],
   "source": [
    "import torch\n",
    "import torch.nn as nn\n",
    "import torch.nn.functional as F\n",
    "import torchvision\n",
    "from torch.utils.data import Dataset,DataLoader\n",
    "\n",
    "import os\n",
    "import cv2\n",
    "import numpy as np\n",
    "import pandas as pd\n",
    "\n",
    "from PIL import Image\n",
    "import plotly.express as px\n",
    "from tqdm.notebook import tqdm\n",
    "\n",
    "import gdown\n",
    "from utils.imputer import Imputer\n",
    "from utils.fashion_dataset import FashionDataset\n",
    "from models.inception import Model"
   ]
  },
  {
   "cell_type": "markdown",
   "id": "609c75ee-aef0-4fe3-b0ce-eb577943ac19",
   "metadata": {},
   "source": [
    "**Downloading The Deep Fashion Dataset**"
   ]
  },
  {
   "cell_type": "code",
   "execution_count": 2,
   "id": "ff80a44d-75b7-4788-987c-fb68840606e3",
   "metadata": {
    "scrolled": true,
    "tags": []
   },
   "outputs": [],
   "source": [
    "#gdown.download(id=\"1p7-dU6rDuqZ2mxv5ac5AWndt4z19aS6j\")\n",
    "#!unzip \"classification-assignment.zip\"\n",
    "#!rm -r \"__MACOSX/\"\n",
    "#!rm -r \"classification-assignment.zip\""
   ]
  },
  {
   "cell_type": "code",
   "execution_count": 3,
   "id": "5b28379d-7b96-48bf-9123-aef88379dc77",
   "metadata": {},
   "outputs": [
    {
     "data": {
      "text/html": [
       "<div>\n",
       "<style scoped>\n",
       "    .dataframe tbody tr th:only-of-type {\n",
       "        vertical-align: middle;\n",
       "    }\n",
       "\n",
       "    .dataframe tbody tr th {\n",
       "        vertical-align: top;\n",
       "    }\n",
       "\n",
       "    .dataframe thead th {\n",
       "        text-align: right;\n",
       "    }\n",
       "</style>\n",
       "<table border=\"1\" class=\"dataframe\">\n",
       "  <thead>\n",
       "    <tr style=\"text-align: right;\">\n",
       "      <th></th>\n",
       "      <th>filename</th>\n",
       "      <th>neck</th>\n",
       "      <th>sleeve_length</th>\n",
       "      <th>pattern</th>\n",
       "    </tr>\n",
       "  </thead>\n",
       "  <tbody>\n",
       "    <tr>\n",
       "      <th>0</th>\n",
       "      <td>cdc8cd2a-0938-4970-a3b5-f5ed9595222c1527925869...</td>\n",
       "      <td>6.0</td>\n",
       "      <td>NaN</td>\n",
       "      <td>4.0</td>\n",
       "    </tr>\n",
       "    <tr>\n",
       "      <th>1</th>\n",
       "      <td>11469770662809-Metersbonwe-Navy-T-shirt-485146...</td>\n",
       "      <td>5.0</td>\n",
       "      <td>3.0</td>\n",
       "      <td>9.0</td>\n",
       "    </tr>\n",
       "    <tr>\n",
       "      <th>2</th>\n",
       "      <td>f7ad67ab-eeb1-4449-8f63-7b580d2797e71532342804...</td>\n",
       "      <td>NaN</td>\n",
       "      <td>0.0</td>\n",
       "      <td>9.0</td>\n",
       "    </tr>\n",
       "    <tr>\n",
       "      <th>3</th>\n",
       "      <td>11516770810185-Splash-Men-Tshirts-767151677081...</td>\n",
       "      <td>6.0</td>\n",
       "      <td>3.0</td>\n",
       "      <td>9.0</td>\n",
       "    </tr>\n",
       "    <tr>\n",
       "      <th>4</th>\n",
       "      <td>11505295751483-FOREVER-21-Men-White-Self-Desig...</td>\n",
       "      <td>1.0</td>\n",
       "      <td>3.0</td>\n",
       "      <td>NaN</td>\n",
       "    </tr>\n",
       "  </tbody>\n",
       "</table>\n",
       "</div>"
      ],
      "text/plain": [
       "                                            filename  neck  sleeve_length  \\\n",
       "0  cdc8cd2a-0938-4970-a3b5-f5ed9595222c1527925869...   6.0            NaN   \n",
       "1  11469770662809-Metersbonwe-Navy-T-shirt-485146...   5.0            3.0   \n",
       "2  f7ad67ab-eeb1-4449-8f63-7b580d2797e71532342804...   NaN            0.0   \n",
       "3  11516770810185-Splash-Men-Tshirts-767151677081...   6.0            3.0   \n",
       "4  11505295751483-FOREVER-21-Men-White-Self-Desig...   1.0            3.0   \n",
       "\n",
       "   pattern  \n",
       "0      4.0  \n",
       "1      9.0  \n",
       "2      9.0  \n",
       "3      9.0  \n",
       "4      NaN  "
      ]
     },
     "execution_count": 3,
     "metadata": {},
     "output_type": "execute_result"
    }
   ],
   "source": [
    "df = pd.read_csv(\"./classification-assignment/attributes.csv\")\n",
    "mask = pd.Series([os.path.exists(os.path.join('./classification-assignment/images/',df.loc[id,\"filename\"])) for id in df.index])\n",
    "df = df[mask].reset_index(drop=True)\n",
    "df.head()"
   ]
  },
  {
   "cell_type": "markdown",
   "id": "9e6c079b-b2b3-4e9f-902b-8c0edb004ced",
   "metadata": {},
   "source": [
    "**Fill The Missing Values using Imputer**"
   ]
  },
  {
   "cell_type": "code",
   "execution_count": 4,
   "id": "7213e72e-86d6-43e3-a6cd-e76627cb8343",
   "metadata": {},
   "outputs": [
    {
     "data": {
      "text/html": [
       "<div>\n",
       "<style scoped>\n",
       "    .dataframe tbody tr th:only-of-type {\n",
       "        vertical-align: middle;\n",
       "    }\n",
       "\n",
       "    .dataframe tbody tr th {\n",
       "        vertical-align: top;\n",
       "    }\n",
       "\n",
       "    .dataframe thead th {\n",
       "        text-align: right;\n",
       "    }\n",
       "</style>\n",
       "<table border=\"1\" class=\"dataframe\">\n",
       "  <thead>\n",
       "    <tr style=\"text-align: right;\">\n",
       "      <th></th>\n",
       "      <th>filename</th>\n",
       "      <th>neck</th>\n",
       "      <th>sleeve_length</th>\n",
       "      <th>pattern</th>\n",
       "    </tr>\n",
       "  </thead>\n",
       "  <tbody>\n",
       "    <tr>\n",
       "      <th>0</th>\n",
       "      <td>cdc8cd2a-0938-4970-a3b5-f5ed9595222c1527925869...</td>\n",
       "      <td>6.0</td>\n",
       "      <td>3.0</td>\n",
       "      <td>4.0</td>\n",
       "    </tr>\n",
       "    <tr>\n",
       "      <th>1</th>\n",
       "      <td>11469770662809-Metersbonwe-Navy-T-shirt-485146...</td>\n",
       "      <td>5.0</td>\n",
       "      <td>3.0</td>\n",
       "      <td>9.0</td>\n",
       "    </tr>\n",
       "    <tr>\n",
       "      <th>2</th>\n",
       "      <td>f7ad67ab-eeb1-4449-8f63-7b580d2797e71532342804...</td>\n",
       "      <td>6.0</td>\n",
       "      <td>0.0</td>\n",
       "      <td>9.0</td>\n",
       "    </tr>\n",
       "    <tr>\n",
       "      <th>3</th>\n",
       "      <td>11516770810185-Splash-Men-Tshirts-767151677081...</td>\n",
       "      <td>6.0</td>\n",
       "      <td>3.0</td>\n",
       "      <td>9.0</td>\n",
       "    </tr>\n",
       "    <tr>\n",
       "      <th>4</th>\n",
       "      <td>11505295751483-FOREVER-21-Men-White-Self-Desig...</td>\n",
       "      <td>1.0</td>\n",
       "      <td>3.0</td>\n",
       "      <td>9.0</td>\n",
       "    </tr>\n",
       "  </tbody>\n",
       "</table>\n",
       "</div>"
      ],
      "text/plain": [
       "                                            filename  neck  sleeve_length  \\\n",
       "0  cdc8cd2a-0938-4970-a3b5-f5ed9595222c1527925869...   6.0            3.0   \n",
       "1  11469770662809-Metersbonwe-Navy-T-shirt-485146...   5.0            3.0   \n",
       "2  f7ad67ab-eeb1-4449-8f63-7b580d2797e71532342804...   6.0            0.0   \n",
       "3  11516770810185-Splash-Men-Tshirts-767151677081...   6.0            3.0   \n",
       "4  11505295751483-FOREVER-21-Men-White-Self-Desig...   1.0            3.0   \n",
       "\n",
       "   pattern  \n",
       "0      4.0  \n",
       "1      9.0  \n",
       "2      9.0  \n",
       "3      9.0  \n",
       "4      9.0  "
      ]
     },
     "execution_count": 4,
     "metadata": {},
     "output_type": "execute_result"
    }
   ],
   "source": [
    "imputer = Imputer()\n",
    "df=imputer.impute(df=df)\n",
    "df=df.dropna().reset_index(drop=True)\n",
    "df.head()"
   ]
  },
  {
   "cell_type": "markdown",
   "id": "f672da68-e364-47e9-9ec3-e5cd45e80db6",
   "metadata": {},
   "source": [
    "**Building & Splitting Dataset from Utils**"
   ]
  },
  {
   "cell_type": "code",
   "execution_count": 5,
   "id": "8efcd4e7-2dc0-4e15-b8da-ba3c60a048b7",
   "metadata": {},
   "outputs": [],
   "source": [
    "ds = FashionDataset(df=df)\n",
    "split = int(0.9*len(ds))\n",
    "ds_train,ds_val = torch.utils.data.random_split(dataset=ds,lengths=[split,len(ds)-split])"
   ]
  },
  {
   "cell_type": "markdown",
   "id": "cc76de7f-c4bd-4237-8532-d6184464ad01",
   "metadata": {},
   "source": [
    "**Loading Model & Other Hyperparameters**"
   ]
  },
  {
   "cell_type": "code",
   "execution_count": 6,
   "id": "de24b756-0ec7-4d54-a26f-70221fad988f",
   "metadata": {},
   "outputs": [],
   "source": [
    "device=\"cuda\"\n",
    "model = Model().to(device)"
   ]
  },
  {
   "cell_type": "code",
   "execution_count": 7,
   "id": "7374701e-c5de-4eac-9d22-54fb742734e2",
   "metadata": {},
   "outputs": [],
   "source": [
    "# Weights Calculations...\n",
    "vals = df.neck.value_counts().sum()-df.neck.value_counts()\n",
    "neck_weights =torch.tensor(((vals)/np.sum(vals)).values,dtype=torch.float32).to(device)\n",
    "\n",
    "vals = df.sleeve_length.value_counts().sum()-df.sleeve_length.value_counts()\n",
    "sleeve_weights =torch.tensor(((vals)/np.sum(vals)).values,dtype=torch.float32).to(device)\n",
    "\n",
    "vals = df.pattern.value_counts().sum()-df.pattern.value_counts()\n",
    "pattern_weights =torch.tensor(((vals)/np.sum(vals)).values,dtype=torch.float32).to(device)\n",
    "\n",
    "loss_fn1 = nn.CrossEntropyLoss(weight=neck_weights).to(device)\n",
    "loss_fn2 = nn.CrossEntropyLoss(weight =sleeve_weights).to(device)\n",
    "loss_fn3 = nn.CrossEntropyLoss(weight=pattern_weights).to(device)\n",
    "\n",
    "batch_size=32"
   ]
  },
  {
   "cell_type": "code",
   "execution_count": 8,
   "id": "4a8d3dda-0baa-4a4b-ab5d-4042178f5a7b",
   "metadata": {},
   "outputs": [],
   "source": [
    "optim = torch.optim.Adam(params=model.parameters(),lr=0.0001) "
   ]
  },
  {
   "cell_type": "code",
   "execution_count": 9,
   "id": "df9e669c-a563-4218-9ff8-8061940635b7",
   "metadata": {},
   "outputs": [],
   "source": [
    "def get_accuracy(ypred,ytrue):\n",
    "    count = 0\n",
    "    for i in range(ytrue.shape[0]):\n",
    "        if torch.argmax(ypred[i,:]) == ytrue[i] : \n",
    "            count+=1 \n",
    "    return count/ytrue.shape[0]"
   ]
  },
  {
   "cell_type": "markdown",
   "id": "c81a5840-d47a-4125-ac03-f5dbc50598a6",
   "metadata": {},
   "source": [
    "**Training The Model**"
   ]
  },
  {
   "cell_type": "code",
   "execution_count": null,
   "id": "f03da6fa-ecbe-4b51-850b-d6d38d240033",
   "metadata": {
    "scrolled": true,
    "tags": []
   },
   "outputs": [
    {
     "data": {
      "application/vnd.jupyter.widget-view+json": {
       "model_id": "a57700e71dfc4ec58be9e270dc3bf507",
       "version_major": 2,
       "version_minor": 0
      },
      "text/plain": [
       "  0%|          | 0/37 [00:00<?, ?it/s]"
      ]
     },
     "metadata": {},
     "output_type": "display_data"
    },
    {
     "name": "stdout",
     "output_type": "stream",
     "text": [
      "{'Val Loss': 2.8993964, 'Val Acc': 0.70625}\n"
     ]
    },
    {
     "data": {
      "application/vnd.jupyter.widget-view+json": {
       "model_id": "588586a63a9c4cba84f513e3909b1a01",
       "version_major": 2,
       "version_minor": 0
      },
      "text/plain": [
       "  0%|          | 0/37 [00:00<?, ?it/s]"
      ]
     },
     "metadata": {},
     "output_type": "display_data"
    },
    {
     "name": "stdout",
     "output_type": "stream",
     "text": [
      "{'Val Loss': 2.5188406, 'Val Acc': 0.7041666666666666}\n"
     ]
    },
    {
     "data": {
      "application/vnd.jupyter.widget-view+json": {
       "model_id": "8b85463232d24e9e8188f81ab513fe65",
       "version_major": 2,
       "version_minor": 0
      },
      "text/plain": [
       "  0%|          | 0/37 [00:00<?, ?it/s]"
      ]
     },
     "metadata": {},
     "output_type": "display_data"
    },
    {
     "name": "stdout",
     "output_type": "stream",
     "text": [
      "{'Val Loss': 2.1001678, 'Val Acc': 0.7270833333333334}\n"
     ]
    },
    {
     "data": {
      "application/vnd.jupyter.widget-view+json": {
       "model_id": "794f27b75fcb4c75bede37cf5da7d30a",
       "version_major": 2,
       "version_minor": 0
      },
      "text/plain": [
       "  0%|          | 0/37 [00:00<?, ?it/s]"
      ]
     },
     "metadata": {},
     "output_type": "display_data"
    },
    {
     "name": "stdout",
     "output_type": "stream",
     "text": [
      "{'Val Loss': 1.9431833, 'Val Acc': 0.7625000000000001}\n"
     ]
    },
    {
     "data": {
      "application/vnd.jupyter.widget-view+json": {
       "model_id": "de06add18de846d4b8776856f1f62fff",
       "version_major": 2,
       "version_minor": 0
      },
      "text/plain": [
       "  0%|          | 0/37 [00:00<?, ?it/s]"
      ]
     },
     "metadata": {},
     "output_type": "display_data"
    },
    {
     "name": "stdout",
     "output_type": "stream",
     "text": [
      "{'Val Loss': 1.7970127, 'Val Acc': 0.74375}\n"
     ]
    },
    {
     "data": {
      "application/vnd.jupyter.widget-view+json": {
       "model_id": "46f5c3d180ba4bb49a936c9cfc6f5fb4",
       "version_major": 2,
       "version_minor": 0
      },
      "text/plain": [
       "  0%|          | 0/37 [00:00<?, ?it/s]"
      ]
     },
     "metadata": {},
     "output_type": "display_data"
    },
    {
     "name": "stdout",
     "output_type": "stream",
     "text": [
      "{'Val Loss': 1.630077, 'Val Acc': 0.78125}\n"
     ]
    },
    {
     "data": {
      "application/vnd.jupyter.widget-view+json": {
       "model_id": "a23abced1d0c44558ee3cf656e083f9a",
       "version_major": 2,
       "version_minor": 0
      },
      "text/plain": [
       "  0%|          | 0/37 [00:00<?, ?it/s]"
      ]
     },
     "metadata": {},
     "output_type": "display_data"
    },
    {
     "name": "stdout",
     "output_type": "stream",
     "text": [
      "{'Val Loss': 1.3353035, 'Val Acc': 0.8083333333333333}\n"
     ]
    },
    {
     "data": {
      "application/vnd.jupyter.widget-view+json": {
       "model_id": "e95fa86bc4894fcdb3c48ef7c0017b21",
       "version_major": 2,
       "version_minor": 0
      },
      "text/plain": [
       "  0%|          | 0/37 [00:00<?, ?it/s]"
      ]
     },
     "metadata": {},
     "output_type": "display_data"
    },
    {
     "name": "stdout",
     "output_type": "stream",
     "text": [
      "{'Val Loss': 1.2572751, 'Val Acc': 0.8395833333333333}\n"
     ]
    },
    {
     "data": {
      "application/vnd.jupyter.widget-view+json": {
       "model_id": "3cb99119c9c540a8aa9961f0fa946e00",
       "version_major": 2,
       "version_minor": 0
      },
      "text/plain": [
       "  0%|          | 0/37 [00:00<?, ?it/s]"
      ]
     },
     "metadata": {},
     "output_type": "display_data"
    },
    {
     "name": "stdout",
     "output_type": "stream",
     "text": [
      "{'Val Loss': 1.0492713, 'Val Acc': 0.85}\n"
     ]
    },
    {
     "data": {
      "application/vnd.jupyter.widget-view+json": {
       "model_id": "cc2383a52f2a46d49bb91ee0263b72dc",
       "version_major": 2,
       "version_minor": 0
      },
      "text/plain": [
       "  0%|          | 0/37 [00:00<?, ?it/s]"
      ]
     },
     "metadata": {},
     "output_type": "display_data"
    },
    {
     "name": "stdout",
     "output_type": "stream",
     "text": [
      "{'Val Loss': 0.89560163, 'Val Acc': 0.88125}\n"
     ]
    },
    {
     "data": {
      "application/vnd.jupyter.widget-view+json": {
       "model_id": "97eca6c6ea2a484391c80edd4e4c849c",
       "version_major": 2,
       "version_minor": 0
      },
      "text/plain": [
       "  0%|          | 0/37 [00:00<?, ?it/s]"
      ]
     },
     "metadata": {},
     "output_type": "display_data"
    },
    {
     "name": "stdout",
     "output_type": "stream",
     "text": [
      "{'Val Loss': 0.7530627, 'Val Acc': 0.8520833333333334}\n"
     ]
    },
    {
     "data": {
      "application/vnd.jupyter.widget-view+json": {
       "model_id": "bcb1fc83eff54e9ea660d8f8936e67e3",
       "version_major": 2,
       "version_minor": 0
      },
      "text/plain": [
       "  0%|          | 0/37 [00:00<?, ?it/s]"
      ]
     },
     "metadata": {},
     "output_type": "display_data"
    },
    {
     "name": "stdout",
     "output_type": "stream",
     "text": [
      "{'Val Loss': 0.67732733, 'Val Acc': 0.9125}\n"
     ]
    },
    {
     "data": {
      "application/vnd.jupyter.widget-view+json": {
       "model_id": "fc3a950912814d47bfc4c54fe8576b25",
       "version_major": 2,
       "version_minor": 0
      },
      "text/plain": [
       "  0%|          | 0/37 [00:00<?, ?it/s]"
      ]
     },
     "metadata": {},
     "output_type": "display_data"
    },
    {
     "name": "stdout",
     "output_type": "stream",
     "text": [
      "{'Val Loss': 0.8308271, 'Val Acc': 0.91875}\n"
     ]
    },
    {
     "data": {
      "application/vnd.jupyter.widget-view+json": {
       "model_id": "f64a925c17f9440c8c40c18c39fa95da",
       "version_major": 2,
       "version_minor": 0
      },
      "text/plain": [
       "  0%|          | 0/37 [00:00<?, ?it/s]"
      ]
     },
     "metadata": {},
     "output_type": "display_data"
    },
    {
     "name": "stdout",
     "output_type": "stream",
     "text": [
      "{'Val Loss': 0.69299376, 'Val Acc': 0.8958333333333334}\n"
     ]
    },
    {
     "data": {
      "application/vnd.jupyter.widget-view+json": {
       "model_id": "4669c3ea35574b4b84324b6c062991f8",
       "version_major": 2,
       "version_minor": 0
      },
      "text/plain": [
       "  0%|          | 0/37 [00:00<?, ?it/s]"
      ]
     },
     "metadata": {},
     "output_type": "display_data"
    },
    {
     "name": "stdout",
     "output_type": "stream",
     "text": [
      "{'Val Loss': 0.52001274, 'Val Acc': 0.93125}\n"
     ]
    },
    {
     "data": {
      "application/vnd.jupyter.widget-view+json": {
       "model_id": "62fa410f5cf9432983c17fddb0c06a24",
       "version_major": 2,
       "version_minor": 0
      },
      "text/plain": [
       "  0%|          | 0/37 [00:00<?, ?it/s]"
      ]
     },
     "metadata": {},
     "output_type": "display_data"
    },
    {
     "name": "stdout",
     "output_type": "stream",
     "text": [
      "{'Val Loss': 0.40242547, 'Val Acc': 0.9458333333333334}\n"
     ]
    },
    {
     "data": {
      "application/vnd.jupyter.widget-view+json": {
       "model_id": "0585b852f25441f0bb51d307aae9ba8c",
       "version_major": 2,
       "version_minor": 0
      },
      "text/plain": [
       "  0%|          | 0/37 [00:00<?, ?it/s]"
      ]
     },
     "metadata": {},
     "output_type": "display_data"
    },
    {
     "name": "stdout",
     "output_type": "stream",
     "text": [
      "{'Val Loss': 0.46783835, 'Val Acc': 0.9291666666666666}\n"
     ]
    },
    {
     "data": {
      "application/vnd.jupyter.widget-view+json": {
       "model_id": "058780f9aa36481b824c94b455bf9543",
       "version_major": 2,
       "version_minor": 0
      },
      "text/plain": [
       "  0%|          | 0/37 [00:00<?, ?it/s]"
      ]
     },
     "metadata": {},
     "output_type": "display_data"
    },
    {
     "name": "stdout",
     "output_type": "stream",
     "text": [
      "{'Val Loss': 0.49795946, 'Val Acc': 0.9291666666666666}\n"
     ]
    },
    {
     "data": {
      "application/vnd.jupyter.widget-view+json": {
       "model_id": "a7b217068e984c40b4035f40cdd80969",
       "version_major": 2,
       "version_minor": 0
      },
      "text/plain": [
       "  0%|          | 0/37 [00:00<?, ?it/s]"
      ]
     },
     "metadata": {},
     "output_type": "display_data"
    },
    {
     "name": "stdout",
     "output_type": "stream",
     "text": [
      "{'Val Loss': 0.44615158, 'Val Acc': 0.9416666666666668}\n"
     ]
    },
    {
     "data": {
      "application/vnd.jupyter.widget-view+json": {
       "model_id": "8f8cc3f0d7fc47d18b9115bbd067dc18",
       "version_major": 2,
       "version_minor": 0
      },
      "text/plain": [
       "  0%|          | 0/37 [00:00<?, ?it/s]"
      ]
     },
     "metadata": {},
     "output_type": "display_data"
    },
    {
     "name": "stdout",
     "output_type": "stream",
     "text": [
      "{'Val Loss': 0.3180294, 'Val Acc': 0.9729166666666667}\n"
     ]
    },
    {
     "data": {
      "application/vnd.jupyter.widget-view+json": {
       "model_id": "524b283f07194ae490f9aa8f5a32215c",
       "version_major": 2,
       "version_minor": 0
      },
      "text/plain": [
       "  0%|          | 0/37 [00:00<?, ?it/s]"
      ]
     },
     "metadata": {},
     "output_type": "display_data"
    },
    {
     "name": "stdout",
     "output_type": "stream",
     "text": [
      "{'Val Loss': 0.26183185, 'Val Acc': 0.9770833333333332}\n"
     ]
    },
    {
     "data": {
      "application/vnd.jupyter.widget-view+json": {
       "model_id": "ef59a29a458d449eb2cc61262210c28d",
       "version_major": 2,
       "version_minor": 0
      },
      "text/plain": [
       "  0%|          | 0/37 [00:00<?, ?it/s]"
      ]
     },
     "metadata": {},
     "output_type": "display_data"
    },
    {
     "name": "stdout",
     "output_type": "stream",
     "text": [
      "{'Val Loss': 0.24785855, 'Val Acc': 0.9625}\n"
     ]
    },
    {
     "data": {
      "application/vnd.jupyter.widget-view+json": {
       "model_id": "e501ba1081ca4f29b8051e05e632dbf7",
       "version_major": 2,
       "version_minor": 0
      },
      "text/plain": [
       "  0%|          | 0/37 [00:00<?, ?it/s]"
      ]
     },
     "metadata": {},
     "output_type": "display_data"
    },
    {
     "name": "stdout",
     "output_type": "stream",
     "text": [
      "{'Val Loss': 0.20807795, 'Val Acc': 0.9708333333333332}\n"
     ]
    },
    {
     "data": {
      "application/vnd.jupyter.widget-view+json": {
       "model_id": "52c4e4c3d9994378a7611fce32e0e0c7",
       "version_major": 2,
       "version_minor": 0
      },
      "text/plain": [
       "  0%|          | 0/37 [00:00<?, ?it/s]"
      ]
     },
     "metadata": {},
     "output_type": "display_data"
    },
    {
     "name": "stdout",
     "output_type": "stream",
     "text": [
      "{'Val Loss': 0.3225059, 'Val Acc': 0.95625}\n"
     ]
    },
    {
     "data": {
      "application/vnd.jupyter.widget-view+json": {
       "model_id": "3414707106994f22b3517b9566313635",
       "version_major": 2,
       "version_minor": 0
      },
      "text/plain": [
       "  0%|          | 0/37 [00:00<?, ?it/s]"
      ]
     },
     "metadata": {},
     "output_type": "display_data"
    },
    {
     "name": "stdout",
     "output_type": "stream",
     "text": [
      "{'Val Loss': 0.22409062, 'Val Acc': 0.96875}\n"
     ]
    },
    {
     "data": {
      "application/vnd.jupyter.widget-view+json": {
       "model_id": "1fa6135451af4ab0b462d076722ac04f",
       "version_major": 2,
       "version_minor": 0
      },
      "text/plain": [
       "  0%|          | 0/37 [00:00<?, ?it/s]"
      ]
     },
     "metadata": {},
     "output_type": "display_data"
    },
    {
     "name": "stdout",
     "output_type": "stream",
     "text": [
      "{'Val Loss': 0.25290897, 'Val Acc': 0.96875}\n"
     ]
    },
    {
     "data": {
      "application/vnd.jupyter.widget-view+json": {
       "model_id": "cd86c6d6106b49f29a7a7e450f2d82d9",
       "version_major": 2,
       "version_minor": 0
      },
      "text/plain": [
       "  0%|          | 0/37 [00:00<?, ?it/s]"
      ]
     },
     "metadata": {},
     "output_type": "display_data"
    },
    {
     "name": "stdout",
     "output_type": "stream",
     "text": [
      "{'Val Loss': 0.48391706, 'Val Acc': 0.91875}\n"
     ]
    },
    {
     "data": {
      "application/vnd.jupyter.widget-view+json": {
       "model_id": "cd808d13558741dd99d853cf815c23ed",
       "version_major": 2,
       "version_minor": 0
      },
      "text/plain": [
       "  0%|          | 0/37 [00:00<?, ?it/s]"
      ]
     },
     "metadata": {},
     "output_type": "display_data"
    },
    {
     "name": "stdout",
     "output_type": "stream",
     "text": [
      "{'Val Loss': 0.40315372, 'Val Acc': 0.9291666666666666}\n"
     ]
    },
    {
     "data": {
      "application/vnd.jupyter.widget-view+json": {
       "model_id": "960464507c31452194c097f2293e262f",
       "version_major": 2,
       "version_minor": 0
      },
      "text/plain": [
       "  0%|          | 0/37 [00:00<?, ?it/s]"
      ]
     },
     "metadata": {},
     "output_type": "display_data"
    },
    {
     "name": "stdout",
     "output_type": "stream",
     "text": [
      "{'Val Loss': 0.51611125, 'Val Acc': 0.9291666666666668}\n"
     ]
    },
    {
     "data": {
      "application/vnd.jupyter.widget-view+json": {
       "model_id": "b3a4d06f7d1744d7a78f76e144b07200",
       "version_major": 2,
       "version_minor": 0
      },
      "text/plain": [
       "  0%|          | 0/37 [00:00<?, ?it/s]"
      ]
     },
     "metadata": {},
     "output_type": "display_data"
    },
    {
     "name": "stdout",
     "output_type": "stream",
     "text": [
      "{'Val Loss': 0.48203635, 'Val Acc': 0.94375}\n"
     ]
    },
    {
     "data": {
      "application/vnd.jupyter.widget-view+json": {
       "model_id": "02ec125c79a5439dba2fd6d83cdc62b2",
       "version_major": 2,
       "version_minor": 0
      },
      "text/plain": [
       "  0%|          | 0/37 [00:00<?, ?it/s]"
      ]
     },
     "metadata": {},
     "output_type": "display_data"
    },
    {
     "name": "stdout",
     "output_type": "stream",
     "text": [
      "{'Val Loss': 0.2685935, 'Val Acc': 0.9645833333333332}\n"
     ]
    },
    {
     "data": {
      "application/vnd.jupyter.widget-view+json": {
       "model_id": "aa9b2a58d7c24466af830804cc621567",
       "version_major": 2,
       "version_minor": 0
      },
      "text/plain": [
       "  0%|          | 0/37 [00:00<?, ?it/s]"
      ]
     },
     "metadata": {},
     "output_type": "display_data"
    },
    {
     "name": "stdout",
     "output_type": "stream",
     "text": [
      "{'Val Loss': 0.21664171, 'Val Acc': 0.975}\n"
     ]
    },
    {
     "data": {
      "application/vnd.jupyter.widget-view+json": {
       "model_id": "85a15c1f663b40dfb99cd1bb5d49c4e3",
       "version_major": 2,
       "version_minor": 0
      },
      "text/plain": [
       "  0%|          | 0/37 [00:00<?, ?it/s]"
      ]
     },
     "metadata": {},
     "output_type": "display_data"
    },
    {
     "name": "stdout",
     "output_type": "stream",
     "text": [
      "{'Val Loss': 0.16618684, 'Val Acc': 0.9791666666666667}\n"
     ]
    },
    {
     "data": {
      "application/vnd.jupyter.widget-view+json": {
       "model_id": "45984e1561ba420584f4e90518fdbb1f",
       "version_major": 2,
       "version_minor": 0
      },
      "text/plain": [
       "  0%|          | 0/37 [00:00<?, ?it/s]"
      ]
     },
     "metadata": {},
     "output_type": "display_data"
    },
    {
     "name": "stdout",
     "output_type": "stream",
     "text": [
      "{'Val Loss': 0.14870162, 'Val Acc': 0.96875}\n"
     ]
    },
    {
     "data": {
      "application/vnd.jupyter.widget-view+json": {
       "model_id": "ec06c1d94bbc42b5bb9125c10b0a47b0",
       "version_major": 2,
       "version_minor": 0
      },
      "text/plain": [
       "  0%|          | 0/37 [00:00<?, ?it/s]"
      ]
     },
     "metadata": {},
     "output_type": "display_data"
    },
    {
     "name": "stdout",
     "output_type": "stream",
     "text": [
      "{'Val Loss': 0.34701073, 'Val Acc': 0.9375}\n"
     ]
    },
    {
     "data": {
      "application/vnd.jupyter.widget-view+json": {
       "model_id": "8050fa35580a4f47a718123ae4f94419",
       "version_major": 2,
       "version_minor": 0
      },
      "text/plain": [
       "  0%|          | 0/37 [00:00<?, ?it/s]"
      ]
     },
     "metadata": {},
     "output_type": "display_data"
    },
    {
     "name": "stdout",
     "output_type": "stream",
     "text": [
      "{'Val Loss': 0.09440989, 'Val Acc': 0.9895833333333334}\n"
     ]
    },
    {
     "data": {
      "application/vnd.jupyter.widget-view+json": {
       "model_id": "996e5af3179d4c12816ea8ed4a6ca96c",
       "version_major": 2,
       "version_minor": 0
      },
      "text/plain": [
       "  0%|          | 0/37 [00:00<?, ?it/s]"
      ]
     },
     "metadata": {},
     "output_type": "display_data"
    },
    {
     "name": "stdout",
     "output_type": "stream",
     "text": [
      "{'Val Loss': 0.118508264, 'Val Acc': 0.96875}\n"
     ]
    },
    {
     "data": {
      "application/vnd.jupyter.widget-view+json": {
       "model_id": "df05c9e4ec67431faa3a75f925901d7c",
       "version_major": 2,
       "version_minor": 0
      },
      "text/plain": [
       "  0%|          | 0/37 [00:00<?, ?it/s]"
      ]
     },
     "metadata": {},
     "output_type": "display_data"
    },
    {
     "name": "stdout",
     "output_type": "stream",
     "text": [
      "{'Val Loss': 0.20602527, 'Val Acc': 0.975}\n"
     ]
    },
    {
     "data": {
      "application/vnd.jupyter.widget-view+json": {
       "model_id": "8160614ef20b486ba7ee8cfe366f97bb",
       "version_major": 2,
       "version_minor": 0
      },
      "text/plain": [
       "  0%|          | 0/37 [00:00<?, ?it/s]"
      ]
     },
     "metadata": {},
     "output_type": "display_data"
    },
    {
     "name": "stdout",
     "output_type": "stream",
     "text": [
      "{'Val Loss': 0.09422884, 'Val Acc': 0.9791666666666667}\n"
     ]
    },
    {
     "data": {
      "application/vnd.jupyter.widget-view+json": {
       "model_id": "2f690e0eefc54decbe5eac9a08308be4",
       "version_major": 2,
       "version_minor": 0
      },
      "text/plain": [
       "  0%|          | 0/37 [00:00<?, ?it/s]"
      ]
     },
     "metadata": {},
     "output_type": "display_data"
    },
    {
     "name": "stdout",
     "output_type": "stream",
     "text": [
      "{'Val Loss': 0.07199194, 'Val Acc': 0.99375}\n"
     ]
    },
    {
     "data": {
      "application/vnd.jupyter.widget-view+json": {
       "model_id": "54d86f1db3774ff5ae92317a075f04f2",
       "version_major": 2,
       "version_minor": 0
      },
      "text/plain": [
       "  0%|          | 0/37 [00:00<?, ?it/s]"
      ]
     },
     "metadata": {},
     "output_type": "display_data"
    },
    {
     "name": "stdout",
     "output_type": "stream",
     "text": [
      "{'Val Loss': 0.15395832, 'Val Acc': 0.975}\n"
     ]
    },
    {
     "data": {
      "application/vnd.jupyter.widget-view+json": {
       "model_id": "f13cd17c9582475485e8c7aaedea36ac",
       "version_major": 2,
       "version_minor": 0
      },
      "text/plain": [
       "  0%|          | 0/37 [00:00<?, ?it/s]"
      ]
     },
     "metadata": {},
     "output_type": "display_data"
    },
    {
     "name": "stdout",
     "output_type": "stream",
     "text": [
      "{'Val Loss': 0.07483797, 'Val Acc': 0.9854166666666668}\n"
     ]
    },
    {
     "data": {
      "application/vnd.jupyter.widget-view+json": {
       "model_id": "b7ad5e1e8f9a40efbeefd908a38c2274",
       "version_major": 2,
       "version_minor": 0
      },
      "text/plain": [
       "  0%|          | 0/37 [00:00<?, ?it/s]"
      ]
     },
     "metadata": {},
     "output_type": "display_data"
    },
    {
     "name": "stdout",
     "output_type": "stream",
     "text": [
      "{'Val Loss': 0.12000332, 'Val Acc': 0.9875}\n"
     ]
    },
    {
     "data": {
      "application/vnd.jupyter.widget-view+json": {
       "model_id": "43e7aaaea58948f9b9228ec275339ebd",
       "version_major": 2,
       "version_minor": 0
      },
      "text/plain": [
       "  0%|          | 0/37 [00:00<?, ?it/s]"
      ]
     },
     "metadata": {},
     "output_type": "display_data"
    },
    {
     "name": "stdout",
     "output_type": "stream",
     "text": [
      "{'Val Loss': 0.19900051, 'Val Acc': 0.96875}\n"
     ]
    },
    {
     "data": {
      "application/vnd.jupyter.widget-view+json": {
       "model_id": "84a4f010be504f65a951586632b8032a",
       "version_major": 2,
       "version_minor": 0
      },
      "text/plain": [
       "  0%|          | 0/37 [00:00<?, ?it/s]"
      ]
     },
     "metadata": {},
     "output_type": "display_data"
    },
    {
     "name": "stdout",
     "output_type": "stream",
     "text": [
      "{'Val Loss': 0.19107756, 'Val Acc': 0.96875}\n"
     ]
    },
    {
     "data": {
      "application/vnd.jupyter.widget-view+json": {
       "model_id": "27b0a4c58ec748b0846161b06e2ec023",
       "version_major": 2,
       "version_minor": 0
      },
      "text/plain": [
       "  0%|          | 0/37 [00:00<?, ?it/s]"
      ]
     },
     "metadata": {},
     "output_type": "display_data"
    },
    {
     "name": "stdout",
     "output_type": "stream",
     "text": [
      "{'Val Loss': 0.17321652, 'Val Acc': 0.9895833333333333}\n"
     ]
    },
    {
     "data": {
      "application/vnd.jupyter.widget-view+json": {
       "model_id": "a103da819b4b4436920d3704de1dfbfe",
       "version_major": 2,
       "version_minor": 0
      },
      "text/plain": [
       "  0%|          | 0/37 [00:00<?, ?it/s]"
      ]
     },
     "metadata": {},
     "output_type": "display_data"
    },
    {
     "name": "stdout",
     "output_type": "stream",
     "text": [
      "{'Val Loss': 0.13528264, 'Val Acc': 0.9729166666666668}\n"
     ]
    },
    {
     "data": {
      "application/vnd.jupyter.widget-view+json": {
       "model_id": "55991bba11164878a26dd3a748dee15a",
       "version_major": 2,
       "version_minor": 0
      },
      "text/plain": [
       "  0%|          | 0/37 [00:00<?, ?it/s]"
      ]
     },
     "metadata": {},
     "output_type": "display_data"
    },
    {
     "name": "stdout",
     "output_type": "stream",
     "text": [
      "{'Val Loss': 0.16586831, 'Val Acc': 0.975}\n"
     ]
    },
    {
     "data": {
      "application/vnd.jupyter.widget-view+json": {
       "model_id": "0dd8e60b5abf44edb1644154b2f3be6e",
       "version_major": 2,
       "version_minor": 0
      },
      "text/plain": [
       "  0%|          | 0/37 [00:00<?, ?it/s]"
      ]
     },
     "metadata": {},
     "output_type": "display_data"
    },
    {
     "name": "stdout",
     "output_type": "stream",
     "text": [
      "{'Val Loss': 0.063285306, 'Val Acc': 0.9875}\n"
     ]
    },
    {
     "data": {
      "application/vnd.jupyter.widget-view+json": {
       "model_id": "0120726a2d774a7590ef3db860bbd1e9",
       "version_major": 2,
       "version_minor": 0
      },
      "text/plain": [
       "  0%|          | 0/37 [00:00<?, ?it/s]"
      ]
     },
     "metadata": {},
     "output_type": "display_data"
    },
    {
     "name": "stdout",
     "output_type": "stream",
     "text": [
      "{'Val Loss': 0.16401967, 'Val Acc': 0.9666666666666666}\n"
     ]
    },
    {
     "data": {
      "application/vnd.jupyter.widget-view+json": {
       "model_id": "36c1c675f0f8435d9162ddee4cf47c70",
       "version_major": 2,
       "version_minor": 0
      },
      "text/plain": [
       "  0%|          | 0/37 [00:00<?, ?it/s]"
      ]
     },
     "metadata": {},
     "output_type": "display_data"
    },
    {
     "name": "stdout",
     "output_type": "stream",
     "text": [
      "{'Val Loss': 0.21338944, 'Val Acc': 0.9666666666666668}\n"
     ]
    },
    {
     "data": {
      "application/vnd.jupyter.widget-view+json": {
       "model_id": "9fcf9b99095e42c094718523c9b42418",
       "version_major": 2,
       "version_minor": 0
      },
      "text/plain": [
       "  0%|          | 0/37 [00:00<?, ?it/s]"
      ]
     },
     "metadata": {},
     "output_type": "display_data"
    },
    {
     "name": "stdout",
     "output_type": "stream",
     "text": [
      "{'Val Loss': 0.3276003, 'Val Acc': 0.9708333333333334}\n"
     ]
    },
    {
     "data": {
      "application/vnd.jupyter.widget-view+json": {
       "model_id": "5f7dc98aa95645c399d98f75cd786a4d",
       "version_major": 2,
       "version_minor": 0
      },
      "text/plain": [
       "  0%|          | 0/37 [00:00<?, ?it/s]"
      ]
     },
     "metadata": {},
     "output_type": "display_data"
    },
    {
     "name": "stdout",
     "output_type": "stream",
     "text": [
      "{'Val Loss': 0.09941387, 'Val Acc': 0.9895833333333334}\n"
     ]
    },
    {
     "data": {
      "application/vnd.jupyter.widget-view+json": {
       "model_id": "5f5cdbd9c53d427788b015ab1d6ff782",
       "version_major": 2,
       "version_minor": 0
      },
      "text/plain": [
       "  0%|          | 0/37 [00:00<?, ?it/s]"
      ]
     },
     "metadata": {},
     "output_type": "display_data"
    },
    {
     "name": "stdout",
     "output_type": "stream",
     "text": [
      "{'Val Loss': 0.11134021, 'Val Acc': 0.9854166666666668}\n"
     ]
    },
    {
     "data": {
      "application/vnd.jupyter.widget-view+json": {
       "model_id": "d026c2e9fdf54526933399dcc8885ccf",
       "version_major": 2,
       "version_minor": 0
      },
      "text/plain": [
       "  0%|          | 0/37 [00:00<?, ?it/s]"
      ]
     },
     "metadata": {},
     "output_type": "display_data"
    },
    {
     "name": "stdout",
     "output_type": "stream",
     "text": [
      "{'Val Loss': 0.03375333, 'Val Acc': 0.9958333333333332}\n"
     ]
    },
    {
     "data": {
      "application/vnd.jupyter.widget-view+json": {
       "model_id": "e25f9131915b436fa0b217eddbb44a3b",
       "version_major": 2,
       "version_minor": 0
      },
      "text/plain": [
       "  0%|          | 0/37 [00:00<?, ?it/s]"
      ]
     },
     "metadata": {},
     "output_type": "display_data"
    },
    {
     "name": "stdout",
     "output_type": "stream",
     "text": [
      "{'Val Loss': 0.03891271, 'Val Acc': 0.99375}\n"
     ]
    },
    {
     "data": {
      "application/vnd.jupyter.widget-view+json": {
       "model_id": "52dfd65d7eee41d38ac9cad2cf99e4f0",
       "version_major": 2,
       "version_minor": 0
      },
      "text/plain": [
       "  0%|          | 0/37 [00:00<?, ?it/s]"
      ]
     },
     "metadata": {},
     "output_type": "display_data"
    }
   ],
   "source": [
    "for epoch in range(0,100):\n",
    "    ds_iter = iter(DataLoader(dataset=ds_train,batch_size=batch_size,shuffle=True))\n",
    "    pbar = tqdm(range(len(ds_iter)))\n",
    "    losses = []\n",
    "    accs = []\n",
    "    for batch in pbar : \n",
    "        x,y = next(ds_iter)\n",
    "        x = x.to(device)\n",
    "        y = y.to(device)\n",
    "        y1,y2,y3 = y[:,0],y[:,1],y[:,2]\n",
    "\n",
    "        ypred1,ypred2,ypred3 = model(x)\n",
    "\n",
    "        loss_neck = loss_fn1(ypred1,y1)\n",
    "        loss_sleeve = loss_fn2(ypred2,y2)\n",
    "        loss_pattern = loss_fn3(ypred3,y3)\n",
    "\n",
    "        acc_neck = get_accuracy(ypred1,y1)\n",
    "        acc_sleeve = get_accuracy(ypred2,y2)\n",
    "        acc_pattern = get_accuracy(ypred3,y3)\n",
    "\n",
    "        acc = np.mean([acc_neck,acc_sleeve,acc_pattern])\n",
    "\n",
    "        loss = loss_neck+loss_sleeve+loss_pattern\n",
    "\n",
    "        optim.zero_grad()\n",
    "        loss.backward()\n",
    "        optim.step()\n",
    "\n",
    "        losses.append(loss.data.cpu().numpy())\n",
    "        accs.append(acc)\n",
    "        \n",
    "        pbar.set_postfix({\"Loss \":np.mean(losses),\"Acc\":np.mean(accs)})\n",
    "        \n",
    "    # Validation Step ...\n",
    "    model.eval()\n",
    "    ds_iter = iter(DataLoader(dataset=ds_val,batch_size=batch_size,shuffle=True))\n",
    "    val_losses = []\n",
    "    val_accs = []\n",
    "    for batch in range(len(ds_iter)): \n",
    "        x,y = next(ds_iter)\n",
    "        x = x.to(device)\n",
    "        y = y.to(device)\n",
    "        y1,y2,y3 = y[:,0],y[:,1],y[:,2]\n",
    "\n",
    "        ypred1,ypred2,ypred3 = model(x,eval_=True)\n",
    "\n",
    "        loss_neck = loss_fn1(ypred1,y1)\n",
    "        loss_sleeve = loss_fn2(ypred2,y2)\n",
    "        loss_pattern = loss_fn3(ypred3,y3)\n",
    "\n",
    "        acc_neck = get_accuracy(ypred1,y1)\n",
    "        acc_sleeve = get_accuracy(ypred2,y2)\n",
    "        acc_pattern = get_accuracy(ypred3,y3)\n",
    "\n",
    "        acc = np.mean([acc_neck,acc_sleeve,acc_pattern])\n",
    "\n",
    "        loss = loss_neck+loss_sleeve+loss_pattern\n",
    "\n",
    "        optim.zero_grad()\n",
    "        loss.backward()\n",
    "        optim.step()\n",
    "\n",
    "        val_losses.append(loss.data.cpu().numpy())\n",
    "        val_accs.append(acc)\n",
    "\n",
    "    model.train()\n",
    "    print({\"Val Loss\": np.mean(val_losses),\"Val Acc\":np.mean(val_accs)})"
   ]
  },
  {
   "cell_type": "code",
   "execution_count": null,
   "id": "d6e9ba3e-19ed-4d5d-bf70-9f6af5ee5a28",
   "metadata": {},
   "outputs": [],
   "source": []
  }
 ],
 "metadata": {
  "kernelspec": {
   "display_name": "Python 3 (ipykernel)",
   "language": "python",
   "name": "python3"
  },
  "language_info": {
   "codemirror_mode": {
    "name": "ipython",
    "version": 3
   },
   "file_extension": ".py",
   "mimetype": "text/x-python",
   "name": "python",
   "nbconvert_exporter": "python",
   "pygments_lexer": "ipython3",
   "version": "3.8.8"
  }
 },
 "nbformat": 4,
 "nbformat_minor": 5
}
